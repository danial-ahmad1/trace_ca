{
 "cells": [
  {
   "cell_type": "code",
   "execution_count": null,
   "metadata": {},
   "outputs": [],
   "source": [
    "import os\n",
    "import matplotlib.pyplot as plt\n",
    "from IPython.display import display\n",
    "from ipywidgets import interact, widgets\n",
    "import numpy as np\n",
    "import pandas as pd\n",
    "from aicsimageio import AICSImage\n",
    "from scipy.signal import find_peaks\n",
    "from scipy.optimize import curve_fit\n",
    "from scipy.ndimage import binary_dilation\n",
    "from scipy.signal import butter, filtfilt\n",
    "from tqdm import tqdm\n",
    "from skimage import io, filters, morphology, img_as_ubyte, img_as_uint\n",
    "from skimage.filters import rank\n",
    "from skimage.color import rgb2gray\n",
    "from skimage.morphology import disk\n",
    "from skimage.io import imsave\n",
    "import cv2\n",
    "from skimage import measure, feature, color\n",
    "from skimage.draw import disk\n",
    "from skimage.feature import blob_dog, blob_log, blob_doh\n",
    "import heapq"
   ]
  },
  {
   "cell_type": "code",
   "execution_count": null,
   "metadata": {},
   "outputs": [],
   "source": [
    "# Open the .ims file\n",
    "# '/Users/moose/Downloads/1.2 OD TraCE 1 01112024/WT 1.2OD 0.5 um_1_2024-01-11_Confocal_01.00.49_DragonflyUser.ims'\n",
    "# '/Users/moose/Downloads/1.2 OD TraCE 1 01112024/WT 1.2OD 0.5 um_2_2024-01-11_Confocal_01.16.28_DragonflyUser.ims'\n",
    "# '/Users/moose/Downloads/1.2 OD TraCE 1 01112024/WT 1.2OD 0.5 um_3_2024-01-11_Confocal_01.08.43_DragonflyUser.ims'\n",
    "\n",
    "# '/Users/moose/Downloads/1.2 OD TraCE 1 01112024/PBP4 1.2OD 0.5 um_1_2024-01-11_Confocal_01.23.49_DragonflyUser.ims'\n",
    "# '/Users/moose/Downloads/1.2 OD TraCE 1 01112024/PBP4 1.2OD 0.5 um_2_2024-01-11_Confocal_01.30.50_DragonflyUser.ims'\n",
    "# '/Users/moose/Downloads/1.2 OD TraCE 1 01112024/PBP4 1.2OD 0.5 um_3_2024-01-11_Confocal_01.40.34_DragonflyUser.ims'\n",
    "\n",
    "# '/Users/moose/Downloads/1.2 OD TraCE 1 01112024/WT 1.2OD Nonporous_2024-01-10_Confocal_22.39.44_DragonflyUser.ims'\n",
    "\n",
    "file_name = '/Users/moose/Downloads/1.2 OD TraCE 1 01112024/WT 1.2OD Nonporous_2024-01-10_Confocal_22.39.44_DragonflyUser.ims'\n",
    "image = AICSImage(file_name)\n",
    "\n",
    "# Get the image data as a numpy array\n",
    "image_data = image.get_image_data(\"ZYX\", S=0, T=0, C=0)"
   ]
  },
  {
   "cell_type": "code",
   "execution_count": null,
   "metadata": {},
   "outputs": [],
   "source": [
    "def show_image(i):\n",
    "    plt.figure(dpi=150)\n",
    "    plt.imshow(image_data[i], cmap='gray')\n",
    "    plt.axis('off')\n",
    "    plt.show()\n",
    "\n",
    "slider = widgets.IntSlider(min=0, max=len(image_data)-1, step=1, value=0)\n",
    "widgets.interact(show_image, i=slider)"
   ]
  },
  {
   "cell_type": "code",
   "execution_count": null,
   "metadata": {},
   "outputs": [],
   "source": [
    "def subtractflatfield(input_img):\n",
    "    grayscale_img = input_img\n",
    "    poly2d_fcn = lambda xy, a, b, c, d, e, f: a + b*xy[0] + c*xy[1] + d*xy[0]*xy[0] + e*xy[1]*xy[1] + f*xy[0]*xy[1]\n",
    "\n",
    "    y, x = np.indices(grayscale_img.shape)\n",
    "\n",
    "    x_co = x.flatten()\n",
    "    y_co = y.flatten()\n",
    "    pix_val = grayscale_img.flatten()\n",
    "\n",
    "    p0 = [1, 1, 1, 1, 1, 1]\n",
    "    popt, _ = curve_fit(poly2d_fcn, (x_co, y_co), pix_val, p0=p0) \n",
    "    flat_field_img = poly2d_fcn((x_co, y_co), *popt).reshape(grayscale_img.shape)\n",
    "    fit_img = grayscale_img - (flat_field_img)\n",
    "\n",
    "    return fit_img"
   ]
  },
  {
   "cell_type": "code",
   "execution_count": null,
   "metadata": {},
   "outputs": [],
   "source": [
    "# for i in tqdm(range(len(image_data))):\n",
    "#     image_data[i] = subtractflatfield(image_data[i])"
   ]
  },
  {
   "cell_type": "code",
   "execution_count": null,
   "metadata": {},
   "outputs": [],
   "source": [
    "frame_mean = []\n",
    "frame_min = []\n",
    "frame_max = []\n",
    "frame_std = []\n",
    "frame_95 = []\n",
    "frame_05 = []\n",
    "for i in range(len(image_data)):\n",
    "    frame_mean.append(np.mean(image_data[i]))\n",
    "    frame_min.append(np.min(image_data[i]))\n",
    "    frame_max.append(np.max(image_data[i]))\n",
    "    frame_std.append(np.std(image_data[i]))\n",
    "    frame_95.append(np.percentile(image_data[i], 95))\n",
    "    frame_05.append(np.percentile(image_data[i], 5))\n",
    "\n",
    "plusband = []\n",
    "minusband = []\n",
    "for i in range(len(image_data)):\n",
    "    plusband.append(frame_mean[i] + frame_std[i])\n",
    "    minusband.append(frame_mean[i] - frame_std[i])\n",
    "\n",
    "frame_mean_top = []\n",
    "frame_mean_bottom = []\n",
    "for i in range(len(image_data)//2):\n",
    "    frame_mean_bottom.append(frame_mean[i])\n",
    "\n",
    "for i in range(len(image_data)//2, len(image_data)):\n",
    "    frame_mean_top.append(frame_mean[i])"
   ]
  },
  {
   "cell_type": "code",
   "execution_count": null,
   "metadata": {},
   "outputs": [],
   "source": [
    "plt.figure(figsize=(5,5), dpi=300)\n",
    "plt.plot(frame_mean, label='Mean', color='red')\n",
    "plt.plot(frame_min, label='Min')\n",
    "# plt.plot(frame_max, label='Max')\n",
    "plt.plot(frame_95, label='5th and 95th Percentile', color='black', ls = '--')\n",
    "plt.plot(frame_05, color='black', ls = '--')\n",
    "# plt.plot(plusband, color='black', ls = (0, (2, 5)))\n",
    "# plt.plot(minusband, color='black', ls = (0, (2, 5)))\n",
    "\n",
    "plt.title('Stack Statistics')\n",
    "plt.xlabel('Z-Stack')\n",
    "plt.ylabel('Relative Intensity')\n",
    "\n",
    "plt.legend()\n",
    "\n",
    "plt.show()"
   ]
  },
  {
   "cell_type": "code",
   "execution_count": null,
   "metadata": {},
   "outputs": [],
   "source": [
    "plt.figure(figsize=(5,3), dpi=300)\n",
    "xhalf_length = len(image_data) // 2\n",
    "xnew = np.arange(xhalf_length, len(image_data))\n",
    "plt.plot(xnew, frame_mean_top)\n",
    "plt.title('Membrane Region')\n",
    "plt.xlabel('Z-Stack')\n",
    "plt.ylabel('Relative Intensity')\n",
    "plt.show()\n"
   ]
  },
  {
   "cell_type": "code",
   "execution_count": null,
   "metadata": {},
   "outputs": [],
   "source": [
    "plt.figure(figsize=(5,3), dpi=300)\n",
    "plt.plot(frame_mean_bottom)\n",
    "plt.title('Bottom Channel Region')\n",
    "plt.xlabel('Z-Stack')\n",
    "plt.ylabel('Relative Intensity')\n",
    "plt.show()"
   ]
  },
  {
   "cell_type": "code",
   "execution_count": null,
   "metadata": {},
   "outputs": [],
   "source": [
    "def background_subtract(img_dat):\n",
    "    x1 = np.min(img_dat)\n",
    "    x2 = []\n",
    "    for i in range(len(img_dat)):\n",
    "        x2.append(img_dat[i] - x1)\n",
    "\n",
    "    x2 = np.maximum(x2, 0)\n",
    "\n",
    "    return x2\n",
    "\n",
    "background_collect = background_subtract(frame_mean)"
   ]
  },
  {
   "cell_type": "code",
   "execution_count": null,
   "metadata": {},
   "outputs": [],
   "source": [
    "plt.plot(background_collect)"
   ]
  },
  {
   "cell_type": "code",
   "execution_count": null,
   "metadata": {},
   "outputs": [],
   "source": [
    "# def least_squares_background_reduction(signal, degree=1):\n",
    "    \n",
    "#     x = np.arange(len(signal))\n",
    "#     A = np.vander(x, degree+1)\n",
    "#     coeffs, _, _, _ = np.linalg.lstsq(A, signal, rcond=None)\n",
    "#     background = np.dot(A, coeffs)\n",
    "#     corrected_signal = signal - background\n",
    "#     corrected_signal = np.maximum(corrected_signal, 0)\n",
    "\n",
    "#     return corrected_signal\n",
    "\n",
    "# corrected_collect = least_squares_background_reduction(np.array(frame_mean))"
   ]
  },
  {
   "cell_type": "code",
   "execution_count": null,
   "metadata": {},
   "outputs": [],
   "source": [
    "# Create a high-pass filter\n",
    "b, a = butter(1, 0.01, btype='high')\n",
    "corrected_collect2 = filtfilt(b, a, frame_mean)\n",
    "corrected_collect2 = np.maximum(corrected_collect2, 0)\n",
    "plt.plot(corrected_collect2)"
   ]
  },
  {
   "cell_type": "code",
   "execution_count": null,
   "metadata": {},
   "outputs": [],
   "source": [
    "# High pass filter peak detection\n",
    "\n",
    "peaks, _ = find_peaks(corrected_collect2, height = 1)\n",
    "print(peaks)\n",
    "# print(corrected_collect2[peaks])\n",
    "# botc = np.mean(corrected_collect2[(peaks[0]-5):(peaks[0]+5)])\n",
    "# midc = np.mean(corrected_collect2[(peaks[0]+5):(peaks[1]-5)])\n",
    "# topc = np.mean(corrected_collect2[(peaks[1]-5):(peaks[1]+5)])\n"
   ]
  },
  {
   "cell_type": "code",
   "execution_count": null,
   "metadata": {},
   "outputs": [],
   "source": [
    "# print(botc, midc, topc) "
   ]
  },
  {
   "cell_type": "code",
   "execution_count": null,
   "metadata": {},
   "outputs": [],
   "source": [
    "# # High pass filter transmigration ratio\n",
    "# (botc+midc)/(botc+midc+topc)*100"
   ]
  },
  {
   "cell_type": "code",
   "execution_count": null,
   "metadata": {},
   "outputs": [],
   "source": [
    "# # Raw with baseline subtraction background reduction\n",
    "peaks2, _ = find_peaks(background_collect, height = 1)\n",
    "print(peaks2)\n",
    "# print(background_collect[peaks2])\n",
    "# b_size = 3\n",
    "# botc2= np.mean(background_collect[(peaks2[0]-b_size):(peaks2[0]+b_size)])\n",
    "# midc2 = np.mean(background_collect[(peaks2[0]+b_size+1):(peaks2[1]-b_size-1)])\n",
    "# topc2 = np.mean(background_collect[(peaks2[1]-b_size):(peaks2[1]+b_size)])\n",
    "# print(botc2, midc2, topc2)"
   ]
  },
  {
   "cell_type": "code",
   "execution_count": null,
   "metadata": {},
   "outputs": [],
   "source": [
    "# # Raw with baseline subtraction background reduction\n",
    "# (botc2+midc2)/(botc2+midc2+topc2)*100"
   ]
  },
  {
   "cell_type": "code",
   "execution_count": null,
   "metadata": {},
   "outputs": [],
   "source": [
    "# # Break middle section into multiple means via chunks. Lower number means more chunks\n",
    "\n",
    "# chunk_div = 10\n",
    "# midtot = background_collect[(peaks2[0]+6):(peaks2[1]-6)]\n",
    "# num_chunks = len(midtot) // chunk_div\n",
    "# midtot_chunks = midtot[:num_chunks * chunk_div].reshape(-1, chunk_div)\n",
    "# mean_chunks = midtot_chunks.mean(axis=1)\n",
    "\n",
    "# print(mean_chunks)"
   ]
  },
  {
   "cell_type": "code",
   "execution_count": null,
   "metadata": {},
   "outputs": [],
   "source": [
    "# # Percent transmigrated\n",
    "# (botc2+midc2)/(botc2+midc2+topc2)*100"
   ]
  },
  {
   "cell_type": "code",
   "execution_count": null,
   "metadata": {},
   "outputs": [],
   "source": [
    "# # Percent on bottom channel region\n",
    "# botc2/(botc2+midc2+topc2)*100"
   ]
  },
  {
   "cell_type": "code",
   "execution_count": null,
   "metadata": {},
   "outputs": [],
   "source": [
    "# # Percent on top channel region\n",
    "# topc2/(botc2+midc2+topc2)*100"
   ]
  },
  {
   "cell_type": "code",
   "execution_count": null,
   "metadata": {},
   "outputs": [],
   "source": [
    "# # Percent in middle/floating\n",
    "# midc2/(botc2+midc2+topc2)*100"
   ]
  },
  {
   "cell_type": "code",
   "execution_count": null,
   "metadata": {},
   "outputs": [],
   "source": [
    "# # Comparison of detected peaks only, transmigration ratio\n",
    "# botc2/(botc2+topc2)*100"
   ]
  },
  {
   "cell_type": "code",
   "execution_count": null,
   "metadata": {},
   "outputs": [],
   "source": [
    "test_im1 = image_data[peaks2[0]-4]\n",
    "plt.figure(figsize=(5,5), dpi=300)\n",
    "plt.imshow(test_im1, cmap='gray')\n",
    "plt.axis('off')\n",
    "plt.show()"
   ]
  },
  {
   "cell_type": "code",
   "execution_count": null,
   "metadata": {},
   "outputs": [],
   "source": [
    "test_im1hist = cv2.calcHist([test_im1], [0], None, [65536], [0, 65536])\n",
    "plt.figure()\n",
    "plt.title(\"16-bit Histogram\")\n",
    "plt.xlabel(\"Bins\")\n",
    "plt.ylabel(\"# of Pixels\")\n",
    "plt.plot(test_im1hist)\n",
    "plt.xlim([0, 5000])\n",
    "plt.show()"
   ]
  },
  {
   "cell_type": "code",
   "execution_count": null,
   "metadata": {},
   "outputs": [],
   "source": [
    "hist_key = {}\n",
    "search_mod = 25\n",
    "\n",
    "for i in range(peaks2[0]-search_mod, peaks2[0]):\n",
    "    if i > 0:\n",
    "        hist_key[i] = image_data[i]\n",
    "\n",
    "for i in range(peaks2[0], peaks2[0]+search_mod+1):\n",
    "    if i < len(image_data):\n",
    "        hist_key[i] = image_data[i]"
   ]
  },
  {
   "cell_type": "code",
   "execution_count": null,
   "metadata": {},
   "outputs": [],
   "source": [
    "len(hist_key)"
   ]
  },
  {
   "cell_type": "code",
   "execution_count": null,
   "metadata": {},
   "outputs": [],
   "source": [
    "# hist_list = []\n",
    "# hist_list.append(image_data[peaks2[0]])\n",
    "# for i in range(4):\n",
    "#     if len(image_data)-4 > 0:\n",
    "#         hist_list.insert(0, image_data[peaks2[0]-i-1])\n",
    "#     if peaks2[0]+4 < len(image_data):\n",
    "#         hist_list.append(image_data[peaks2[0]+i+1])"
   ]
  },
  {
   "cell_type": "code",
   "execution_count": null,
   "metadata": {},
   "outputs": [],
   "source": [
    "hist_listgraph = []\n",
    "\n",
    "for i in hist_key.keys():\n",
    "    hist_listgraph.append(cv2.calcHist([hist_key[i]], [0], None, [65536], [0, 65536]))\n",
    "\n",
    "plt.figure(figsize=(5,5), dpi=100)\n",
    "for i in range(len(hist_listgraph)):\n",
    "    plt.plot(hist_listgraph[i])\n",
    "plt.title('16-bit Histograms')\n",
    "plt.xlabel('Bins')\n",
    "plt.ylabel('# of Pixels')\n",
    "plt.xlim([200, 800])\n",
    "plot_leg = []\n",
    "for i in hist_key.keys():\n",
    "    plot_leg.append('Frame ' + str(i))\n",
    "plt.legend(plot_leg)\n",
    "plt.show()"
   ]
  },
  {
   "cell_type": "code",
   "execution_count": null,
   "metadata": {},
   "outputs": [],
   "source": [
    "hist_stdev = {}\n",
    "for i in hist_key.keys():\n",
    "    hist_stdev[i] = np.std(hist_key[i])"
   ]
  },
  {
   "cell_type": "code",
   "execution_count": null,
   "metadata": {},
   "outputs": [],
   "source": [
    "print(f'Max Stdev: ' + str(np.max(list(hist_stdev.values()))) + ' at Frame ' + str(max(hist_stdev, key=hist_stdev.get)))"
   ]
  },
  {
   "cell_type": "code",
   "execution_count": null,
   "metadata": {},
   "outputs": [],
   "source": [
    "# mem_layer = max(hist_stdev, key=hist_stdev.get)"
   ]
  },
  {
   "cell_type": "code",
   "execution_count": null,
   "metadata": {},
   "outputs": [],
   "source": [
    "# Mem layer ID second test. Ultimately comparing contrast assessment vs. laplacian focus measure vs tenengrad focus measure\n",
    "hist_laplace = {}\n",
    "for i in hist_key.keys():\n",
    "    hist_laplace[i] = cv2.Laplacian(hist_key[i], cv2.CV_64F)\n",
    "\n",
    "hist_laplace_focusemeasure = {}\n",
    "for i in hist_laplace.keys():\n",
    "    hist_laplace_focusemeasure[i] = np.var(hist_laplace[i])"
   ]
  },
  {
   "cell_type": "code",
   "execution_count": null,
   "metadata": {},
   "outputs": [],
   "source": [
    "print(hist_laplace_focusemeasure)"
   ]
  },
  {
   "cell_type": "code",
   "execution_count": null,
   "metadata": {},
   "outputs": [],
   "source": [
    "print(f'Max Laplace Focus Measure: ' + str(np.max(list(hist_laplace_focusemeasure.values()))) + ' at Frame ' + str(max(hist_laplace_focusemeasure, key=hist_laplace_focusemeasure.get)))"
   ]
  },
  {
   "cell_type": "code",
   "execution_count": null,
   "metadata": {},
   "outputs": [],
   "source": [
    "# Calculate the Tenengrad focus measure as the variance of the gradient magnitude\n",
    "hist_tenengrad_focusemeasure = {}\n",
    "\n",
    "for i in hist_key.keys():\n",
    "    sobelx = cv2.Sobel(hist_key[i], cv2.CV_64F, 1, 0, ksize=5)\n",
    "    sobely = cv2.Sobel(hist_key[i], cv2.CV_64F, 0, 1, ksize=5)\n",
    "\n",
    "    magnitude = np.sqrt(sobelx**2 + sobely**2)\n",
    "\n",
    "    hist_tenengrad_focusemeasure[i] = np.var(magnitude)"
   ]
  },
  {
   "cell_type": "code",
   "execution_count": null,
   "metadata": {},
   "outputs": [],
   "source": [
    "print(hist_tenengrad_focusemeasure)"
   ]
  },
  {
   "cell_type": "code",
   "execution_count": null,
   "metadata": {},
   "outputs": [],
   "source": [
    "print(f'Max Tenengrad Focus Measure: ' + str(np.max(list(hist_tenengrad_focusemeasure.values()))) + ' at Frame ' + str(max(hist_tenengrad_focusemeasure, key=hist_tenengrad_focusemeasure.get)))"
   ]
  },
  {
   "cell_type": "code",
   "execution_count": null,
   "metadata": {},
   "outputs": [],
   "source": [
    "hist_max = {}\n",
    "for i in hist_key.keys():\n",
    "    hist_max[i] = np.max(hist_key[i])"
   ]
  },
  {
   "cell_type": "code",
   "execution_count": null,
   "metadata": {},
   "outputs": [],
   "source": [
    "print(f'Max Intensity: ' + str(np.max(list(hist_max.values()))) + ' at Frame ' + str(max(hist_max, key=hist_max.get)))"
   ]
  },
  {
   "cell_type": "code",
   "execution_count": null,
   "metadata": {},
   "outputs": [],
   "source": [
    "weight_mat = [1, 1, 1]\n",
    "focus_margins = []\n",
    "\n",
    "stdev_two_largest = heapq.nlargest(2, hist_stdev.values())\n",
    "laplace_two_largest = heapq.nlargest(2, hist_laplace_focusemeasure.values())\n",
    "tenengrad_two_largest = heapq.nlargest(2, hist_tenengrad_focusemeasure.values())\n",
    "\n",
    "# # % diff is overweight on tenengrad, underweight on stdev and laplace\n",
    "# weight_mat[0] = (stdev_two_largest[0]-stdev_two_largest[1])/((stdev_two_largest[0]+stdev_two_largest[1])/2)*100\n",
    "# weight_mat[1] = (laplace_two_largest[0]-laplace_two_largest[1])/((laplace_two_largest[0]+laplace_two_largest[1])/2)*100\n",
    "# weight_mat[2] = (tenengrad_two_largest[0]-tenengrad_two_largest[1])/((tenengrad_two_largest[0]+tenengrad_two_largest[1])/2)*(100)\n",
    "\n",
    "stdev_stdev = np.std(list(hist_stdev.values()))\n",
    "laplace_stdev = np.std(list(hist_laplace_focusemeasure.values()))\n",
    "tenengrad_stdev = np.std(list(hist_tenengrad_focusemeasure.values()))\n",
    "\n",
    "# Inverse standard deviation, of each focus measure, may be more appropriate\n",
    "weight_mat[0] = 1 / stdev_stdev\n",
    "weight_mat[1] = 1 / laplace_stdev\n",
    "weight_mat[2] = 1 / tenengrad_stdev"
   ]
  },
  {
   "cell_type": "code",
   "execution_count": null,
   "metadata": {},
   "outputs": [],
   "source": [
    "weight_mat"
   ]
  },
  {
   "cell_type": "code",
   "execution_count": null,
   "metadata": {},
   "outputs": [],
   "source": [
    "focus_ensemble = []\n",
    "focus_ensemble.append(max(hist_stdev, key=hist_stdev.get))\n",
    "focus_ensemble.append(max(hist_laplace_focusemeasure, key=hist_laplace_focusemeasure.get))\n",
    "focus_ensemble.append(max(hist_tenengrad_focusemeasure, key=hist_tenengrad_focusemeasure.get))"
   ]
  },
  {
   "cell_type": "code",
   "execution_count": null,
   "metadata": {},
   "outputs": [],
   "source": [
    "voting_power = []\n",
    "for i in range(len(focus_ensemble)):\n",
    "    voting_power.append((focus_ensemble[i], weight_mat[i]))\n",
    "\n",
    "vote = {}\n",
    "for frame_num, weighted_vote in voting_power:\n",
    "    if frame_num in vote:\n",
    "        vote[frame_num] += weighted_vote\n",
    "\n",
    "    else:\n",
    "        vote[frame_num] = weighted_vote\n"
   ]
  },
  {
   "cell_type": "code",
   "execution_count": null,
   "metadata": {},
   "outputs": [],
   "source": [
    "print(f'Max Ensemble Vote: ' + str(np.max(list(vote.values()))) + ' points for Frame ' + str(max(vote, key=vote.get)))"
   ]
  },
  {
   "cell_type": "code",
   "execution_count": null,
   "metadata": {},
   "outputs": [],
   "source": [
    "mem_layer = max(vote, key=vote.get)\n",
    "# mem_layer = round(np.mean(focus_ensemble))"
   ]
  },
  {
   "cell_type": "code",
   "execution_count": null,
   "metadata": {},
   "outputs": [],
   "source": [
    "bud_test = []\n",
    "for i in range(10):\n",
    "    bud_test.append(mem_layer-i-1)"
   ]
  },
  {
   "cell_type": "code",
   "execution_count": null,
   "metadata": {},
   "outputs": [],
   "source": [
    "bud_test"
   ]
  },
  {
   "cell_type": "code",
   "execution_count": null,
   "metadata": {},
   "outputs": [],
   "source": [
    "bud_test_img = []\n",
    "for i in bud_test:\n",
    "    bud_test_img.append(hist_key[i])"
   ]
  },
  {
   "cell_type": "code",
   "execution_count": null,
   "metadata": {},
   "outputs": [],
   "source": [
    "bud_composite = np.max(bud_test_img, axis=0)"
   ]
  },
  {
   "cell_type": "code",
   "execution_count": null,
   "metadata": {},
   "outputs": [],
   "source": [
    "plt.imshow(bud_composite, cmap='gray')"
   ]
  },
  {
   "cell_type": "code",
   "execution_count": null,
   "metadata": {},
   "outputs": [],
   "source": [
    "bud_layer = mem_layer-1"
   ]
  },
  {
   "cell_type": "code",
   "execution_count": null,
   "metadata": {},
   "outputs": [],
   "source": [
    "# img_variance = np.var(test_im1)  # Find overall variance\n",
    "# img_sigma = np.sqrt(img_variance) # Find standard deviation\n",
    "# smooth_img = filters.gaussian(test_im1, sigma=img_sigma)"
   ]
  },
  {
   "cell_type": "code",
   "execution_count": null,
   "metadata": {},
   "outputs": [],
   "source": [
    "# plt.imshow(smooth_img, cmap='gray')"
   ]
  },
  {
   "cell_type": "code",
   "execution_count": null,
   "metadata": {},
   "outputs": [],
   "source": [
    "# # Sliding otsu to preserve dot morphology. This is a simple approach.\n",
    "# ubyte_img = img_as_ubyte(smooth_img) # Pixel scaling to 8-bit, needed to run sliding otsu or else it throws an error.\n",
    "# test_im_ubyte = img_as_ubyte(test_im1)\n",
    "# rad = 10 # Radius of the sliding window, completely arbitrary. Change for image as needed.\n",
    "# local_otsu = rank.otsu(ubyte_img, disk(rad)) # Sliding otsu.\n",
    "# mask_test = ubyte_img >= local_otsu*1.1 # 1.1 is a fudge factor to make the mask a bit bigger, also removes nonsense output.\n",
    "# masked_img = np.where(mask_test, test_im_ubyte, 0) # Apply mask on grayscale image, set all non-masked pixels to 0."
   ]
  },
  {
   "cell_type": "code",
   "execution_count": null,
   "metadata": {},
   "outputs": [],
   "source": [
    "# plt.imshow(test_im_ubyte, cmap='gray')"
   ]
  },
  {
   "cell_type": "code",
   "execution_count": null,
   "metadata": {},
   "outputs": [],
   "source": [
    "# thresh_imtest = filters.threshold_otsu(test_im_ubyte)\n",
    "# bin_test = test_im_ubyte > thresh_imtest\n",
    "# plt.imshow(bin_test, cmap='gray')"
   ]
  },
  {
   "cell_type": "code",
   "execution_count": null,
   "metadata": {},
   "outputs": [],
   "source": [
    "# imsave('/Users/moose/Desktop/test_im1.tif', test_im1)"
   ]
  },
  {
   "cell_type": "code",
   "execution_count": null,
   "metadata": {},
   "outputs": [],
   "source": [
    "bud_img = hist_key[bud_layer-3]\n",
    "# bud_img = bud_composite\n",
    "test_flat = subtractflatfield(bud_img)"
   ]
  },
  {
   "cell_type": "code",
   "execution_count": null,
   "metadata": {},
   "outputs": [],
   "source": [
    "normalized_img = (bud_img - np.min(bud_img)) / (np.max(bud_img) - np.min(bud_img))\n",
    "np.clip(normalized_img, 0, 1, out=normalized_img)\n",
    "normalized_img = img_as_ubyte(normalized_img)\n",
    "\n",
    "norm_flat = (test_flat - np.min(test_flat)) / (np.max(test_flat) - np.min(test_flat))\n",
    "np.clip(norm_flat, 0, 1, out=norm_flat)\n",
    "norm_flat = img_as_ubyte(norm_flat)\n",
    "\n",
    "plt.figure(figsize=(10, 5))\n",
    "plt.subplot(1, 2, 1)\n",
    "plt.imshow(normalized_img, cmap='gray')\n",
    "plt.axis('off')\n",
    "plt.title('Normalized Image')\n",
    "plt.subplot(1, 2, 2)\n",
    "plt.imshow(norm_flat, cmap='gray')\n",
    "plt.axis('off')\n",
    "plt.title('Flatten/Normalized Image')\n",
    "\n",
    "plt.show()"
   ]
  },
  {
   "cell_type": "code",
   "execution_count": null,
   "metadata": {},
   "outputs": [],
   "source": [
    "norm_hist = cv2.calcHist([normalized_img], [0], None, [256], [0, 256])\n",
    "plt.figure(figsize=(10, 5))\n",
    "plt.subplot(1, 2, 1)\n",
    "plt.title(\"Norm Histogram\")\n",
    "plt.xlabel(\"Bins\")\n",
    "plt.ylabel(\"# of Pixels\")\n",
    "plt.plot(norm_hist)\n",
    "plt.xlim([0, 256])\n",
    "\n",
    "flat_hist = cv2.calcHist([norm_flat], [0], None, [256], [0, 256])\n",
    "plt.subplot(1, 2, 2)\n",
    "plt.title(\"Norm/Flat Histogram\")\n",
    "plt.xlabel(\"Bins\")\n",
    "plt.ylabel(\"# of Pixels\")\n",
    "plt.plot(norm_hist)\n",
    "plt.xlim([0, 256])\n",
    "plt.show()"
   ]
  },
  {
   "cell_type": "code",
   "execution_count": null,
   "metadata": {},
   "outputs": [],
   "source": [
    "normalized_img.dtype"
   ]
  },
  {
   "cell_type": "code",
   "execution_count": null,
   "metadata": {},
   "outputs": [],
   "source": [
    "norm_flat.dtype"
   ]
  },
  {
   "cell_type": "code",
   "execution_count": null,
   "metadata": {},
   "outputs": [],
   "source": [
    "bin_fac = np.std(norm_flat)*3/np.mean(norm_flat)"
   ]
  },
  {
   "cell_type": "code",
   "execution_count": null,
   "metadata": {},
   "outputs": [],
   "source": [
    "print(bin_fac)"
   ]
  },
  {
   "cell_type": "code",
   "execution_count": null,
   "metadata": {},
   "outputs": [],
   "source": [
    "threshold_value = bin_fac*256\n",
    "norm_flat = cv2.GaussianBlur(norm_flat, (5, 5), 2, 2)\n",
    "_, binary_image = cv2.threshold(norm_flat, threshold_value, 256, cv2.THRESH_BINARY)\n",
    "binary_image = binary_dilation(binary_image, structure=np.ones((3, 3)))\n",
    "plt.figure(dpi=150)\n",
    "plt.imshow(binary_image, cmap='gray')\n",
    "plt.axis('off')\n",
    "plt.show()"
   ]
  },
  {
   "cell_type": "code",
   "execution_count": null,
   "metadata": {},
   "outputs": [],
   "source": [
    "# kernel = np.ones((3,3),np.uint8)\n",
    "# eroded_image = cv2.erode(binary_image, kernel, iterations = 1)\n",
    "# dilated_image = cv2.dilate(eroded_image, kernel, iterations = 1)\n",
    "\n",
    "# plt.figure(dpi=300)\n",
    "# plt.imshow(dilated_image, cmap='gray')\n",
    "# plt.axis('off')\n",
    "# plt.show()"
   ]
  },
  {
   "cell_type": "code",
   "execution_count": null,
   "metadata": {},
   "outputs": [],
   "source": [
    "# labels = measure.label(binary_image, connectivity=2)\n",
    "# # Count the number of dots\n",
    "# n_dots = len(measure.regionprops(labels))\n",
    "# print(f'Number of dots: {n_dots}')"
   ]
  },
  {
   "cell_type": "code",
   "execution_count": null,
   "metadata": {},
   "outputs": [],
   "source": [
    "# labels = measure.label(binary_image, connectivity=2)\n",
    "# props = measure.regionprops(labels)\n",
    "\n",
    "# # Create an RGB version of the original image so we can overlay colored dots\n",
    "# rgb_image = cv2.cvtColor(binary_image, cv2.COLOR_GRAY2RGB)\n",
    "\n",
    "# # Iterate over each detected region\n",
    "# for prop in props:\n",
    "#     # Get the coordinates of the center of the dot (rounded to nearest integer)\n",
    "#     y, x = [int(round(coord)) for coord in prop.centroid]\n",
    "    \n",
    "#     # Draw a red dot at the center of each region\n",
    "#     rr, cc = disk((x, y), radius=5)\n",
    "#     rgb_image[rr, cc] = (255, 0, 0)  # RGB color for red\n",
    "\n",
    "# plt.figure(dpi=300)\n",
    "# plt.imshow(rgb_image)\n",
    "# plt.axis('off')\n",
    "# plt.show()"
   ]
  },
  {
   "cell_type": "code",
   "execution_count": null,
   "metadata": {},
   "outputs": [],
   "source": [
    "# blobs_log = blob_log(binary_image, max_sigma=30, num_sigma=10, threshold=0.3)\n",
    "# blobs_log[:, 2] = blobs_log[:, 2] * np.sqrt(2)\n",
    "\n",
    "blobs_dog = blob_dog(binary_image, max_sigma=30, threshold=0.3)\n",
    "blobs_dog[:, 2] = blobs_dog[:, 2] * np.sqrt(2)\n",
    "\n",
    "# blobs_doh = blob_doh(binary_image, max_sigma=30, threshold=0.03)\n",
    "\n",
    "min_radius = 1.5  # Minimum acceptable blob radius\n",
    "max_radius = 100  # Maximum acceptable blob radius\n",
    "\n",
    "# Filter blobs based on their radii\n",
    "# blobs_log = [blob for blob in blobs_log if min_radius <= blob[2] <= max_radius]\n",
    "blobs_dog = [blob for blob in blobs_dog if min_radius <= blob[2] <= max_radius]\n",
    "# blobs_doh = [blob for blob in blobs_doh if min_radius <= blob[2] <= max_radius]\n",
    "\n",
    "# blobs_list = [blobs_log, blobs_dog, blobs_doh]\n",
    "# colors = ['red', 'green', 'magenta']\n",
    "# titles = ['Laplacian of Gaussian', 'Difference of Gaussian', 'Determinant of Hessian']\n",
    "# sequence = zip(blobs_list, colors, titles)\n",
    "\n",
    "# fig, axes = plt.subplots(1, 3, figsize=(9, 3), sharex=True, sharey=True, dpi=100)\n",
    "# ax = axes.ravel()\n",
    "\n",
    "# for idx, (blobs, color, title) in enumerate(sequence):\n",
    "#     ax[idx].set_title(title)\n",
    "#     ax[idx].imshow(binary_image, cmap='gray')\n",
    "#     for blob in blobs:\n",
    "#         y, x, r = blob\n",
    "#         c = plt.Circle((x, y), r, color=color, linewidth=2, fill=False)\n",
    "#         ax[idx].add_patch(c)\n",
    "#     ax[idx].set_axis_off()\n",
    "\n",
    "# plt.tight_layout()\n",
    "# plt.show()\n"
   ]
  },
  {
   "cell_type": "code",
   "execution_count": null,
   "metadata": {},
   "outputs": [],
   "source": [
    "# print(len(blobs_log), len(blobs_dog), len(blobs_doh))"
   ]
  },
  {
   "cell_type": "code",
   "execution_count": null,
   "metadata": {},
   "outputs": [],
   "source": [
    "print(f'File Name: ' + os.path.basename(file_name))\n",
    "bud_df = pd.DataFrame(blobs_dog, columns=['y-coord', 'x-coord', 'Radius'])\n",
    "bud_df.index.name = 'Bud ID'\n",
    "vote_array = [[k, v] for k, v in vote.items()]\n",
    "vote_df = pd.DataFrame(vote_array, columns=['Stack Layer', 'Vote Weight'])\n",
    "print(f'Membrane layer at: ' + str(mem_layer))\n",
    "print(f'Budding layer at: ' + str(bud_layer))\n",
    "print(f'Number of Detected Budding Events: ' + str(len(blobs_dog)))\n",
    "print('------------------------------')\n",
    "print('Final Vote Tally:')\n",
    "print(vote_df.to_string(index=False))\n",
    "print('------------------------------')\n",
    "print(bud_df)"
   ]
  },
  {
   "cell_type": "code",
   "execution_count": null,
   "metadata": {},
   "outputs": [],
   "source": [
    "# Convert pandas dataframes and other variables to string and format it for display via matplotlb\n",
    "bud_df_str = bud_df.to_string()\n",
    "vote_df_str = vote_df.to_string(index=False)\n",
    "text = f\"\"\"File Name: {os.path.basename(file_name)}\n",
    "Membrane layer at: {mem_layer}\n",
    "Budding layer at: {bud_layer}\n",
    "Number of Detected Budding Events: {len(blobs_dog)}\n",
    "------------------------------\n",
    "Final Vote Tally:\n",
    "{vote_df_str}\n",
    "------------------------------\n",
    "{bud_df_str}\"\"\"\n",
    "\n",
    "fig = plt.figure(figsize=(9, 4))\n",
    "plt.text(0, 1, text, fontsize=12, verticalalignment='top')\n",
    "plt.axis('off')\n",
    "plt.savefig('/Users/moose/Desktop/trace_ca-local/' + os.path.splitext(os.path.basename(file_name))[0] + '_stats.png', dpi=500)\n",
    "plt.show()\n",
    "\n",
    "\n",
    "fig, ax = plt.subplots(figsize=(3, 3), dpi=500)\n",
    "ax.set_title('Detected Budding Events')\n",
    "ax.imshow(norm_flat, cmap='gray')\n",
    "for blob in blobs_dog:\n",
    "    y, x, r = blob\n",
    "    c = plt.Circle((x, y), r, color='green', linewidth=2, fill=False)\n",
    "    ax.add_patch(c)\n",
    "    ax.invert_yaxis()  # Invert the y-axis\n",
    "ax.set_axis_off()\n",
    "\n",
    "plt.savefig('/Users/moose/Desktop/trace_ca-local/' + os.path.splitext(os.path.basename(file_name))[0] + '_detected.png', dpi=500)\n",
    "plt.show()"
   ]
  },
  {
   "cell_type": "code",
   "execution_count": null,
   "metadata": {},
   "outputs": [],
   "source": []
  }
 ],
 "metadata": {
  "kernelspec": {
   "display_name": ".venv",
   "language": "python",
   "name": "python3"
  },
  "language_info": {
   "codemirror_mode": {
    "name": "ipython",
    "version": 3
   },
   "file_extension": ".py",
   "mimetype": "text/x-python",
   "name": "python",
   "nbconvert_exporter": "python",
   "pygments_lexer": "ipython3",
   "version": "3.11.9"
  }
 },
 "nbformat": 4,
 "nbformat_minor": 2
}
